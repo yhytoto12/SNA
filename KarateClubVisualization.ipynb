{
  "nbformat": 4,
  "nbformat_minor": 0,
  "metadata": {
    "colab": {
      "name": "KarateClubVisualization.ipynb",
      "provenance": [],
      "collapsed_sections": [],
      "authorship_tag": "ABX9TyOACUW723MQ6uaFGuWiWE9k",
      "include_colab_link": true
    },
    "kernelspec": {
      "name": "python3",
      "display_name": "Python 3"
    },
    "accelerator": "GPU"
  },
  "cells": [
    {
      "cell_type": "markdown",
      "metadata": {
        "id": "view-in-github",
        "colab_type": "text"
      },
      "source": [
        "<a href=\"https://colab.research.google.com/github/yhytoto12/SNA/blob/master/KarateClubVisualization.ipynb\" target=\"_parent\"><img src=\"https://colab.research.google.com/assets/colab-badge.svg\" alt=\"Open In Colab\"/></a>"
      ]
    },
    {
      "cell_type": "code",
      "metadata": {
        "id": "aJ8XxSUxGYyk",
        "colab_type": "code",
        "colab": {}
      },
      "source": [
        "!pip install torch-scatter==latest+cu101 -f https://pytorch-geometric.com/whl/torch-1.5.0.html\n",
        "!pip install torch-sparse==latest+cu101 -f https://pytorch-geometric.com/whl/torch-1.5.0.html\n",
        "!pip install torch-cluster==latest+cu101 -f https://pytorch-geometric.com/whl/torch-1.5.0.html\n",
        "!pip install torch-spline-conv==latest+cu101 -f https://pytorch-geometric.com/whl/torch-1.5.0.html\n",
        "!pip install torch-geometric"
      ],
      "execution_count": null,
      "outputs": []
    },
    {
      "cell_type": "code",
      "metadata": {
        "id": "2zzBysv8Ggef",
        "colab_type": "code",
        "colab": {}
      },
      "source": [
        "import torch\n",
        "import numpy as np\n",
        "import matplotlib.pyplot as plt\n",
        "import torch_geometric.transforms as T\n",
        "import torch.nn.functional as F\n",
        "from torch_geometric.datasets import Planetoid\n",
        "from torch_geometric.datasets import Flickr\n",
        "from sklearn.manifold import TSNE\n",
        "\n",
        "from torch_geometric.datasets import KarateClub\n",
        "dataset = KarateClub()\n",
        "#dataset = Planetoid('./data', 'PubMed')\n",
        "#dataset = Flickr('./data')\n",
        "data = dataset[0]\n",
        "\n",
        "device = 'cuda' if torch.cuda.is_available() else 'cpu'\n",
        "\n",
        "colors = [\n",
        "    '#ff0000', '#0000ff'\n",
        "]"
      ],
      "execution_count": 155,
      "outputs": []
    },
    {
      "cell_type": "markdown",
      "metadata": {
        "id": "RDn3IN6cCBlF",
        "colab_type": "text"
      },
      "source": [
        "### Make Training Set"
      ]
    },
    {
      "cell_type": "code",
      "metadata": {
        "id": "00QSPqZo-MEP",
        "colab_type": "code",
        "colab": {}
      },
      "source": [
        "random.seed(1)\n",
        "alpha = 0.3\n",
        "mask = random.sample(range(34), int(alpha * 34))\n",
        "train_mask = np.full(34, False, dtype=bool)\n",
        "for i in mask:\n",
        "    train_mask[i] = True\n",
        "\n",
        "print(train_mask)"
      ],
      "execution_count": null,
      "outputs": []
    },
    {
      "cell_type": "markdown",
      "metadata": {
        "id": "1qWj5a81_6s1",
        "colab_type": "text"
      },
      "source": [
        "# Node2Vec"
      ]
    },
    {
      "cell_type": "code",
      "metadata": {
        "id": "wASviLg6GpGk",
        "colab_type": "code",
        "colab": {}
      },
      "source": [
        "from torch_geometric.nn import Node2Vec\n",
        "\n",
        "\n",
        "model = Node2Vec(data.edge_index, embedding_dim=10, walk_length=10,\n",
        "                 context_size=5, walks_per_node=10, num_negative_samples=1,\n",
        "                 q=1,\n",
        "                 sparse=True).to(device)\n",
        "\n",
        "loader = model.loader(batch_size=128, shuffle=True, num_workers=4)\n",
        "optimizer = torch.optim.SparseAdam(model.parameters(), lr=0.01)\n",
        "\n",
        "\n",
        "def train():\n",
        "    model.train()\n",
        "    total_loss = 0\n",
        "    for pos_rw, neg_rw in loader:\n",
        "        optimizer.zero_grad()\n",
        "        loss = model.loss(pos_rw.to(device), neg_rw.to(device))\n",
        "        loss.backward()\n",
        "        optimizer.step()\n",
        "        total_loss += loss.item()\n",
        "    return total_loss / len(loader)\n",
        "\n",
        "\n",
        "@torch.no_grad()\n",
        "def test():\n",
        "    model.eval()\n",
        "    z = model()\n",
        "    acc = model.test(z[train_mask], data.y[train_mask], z, data.y, max_iter=100)\n",
        "    return acc\n",
        "\n",
        "\n",
        "for epoch in range(1, 201):\n",
        "    loss = train()\n",
        "    acc = test()\n",
        "    if epoch % 20 == 0:\n",
        "        print(f'Epoch: {epoch:02d}, Loss: {loss:.4f}, Acc: {acc:.4f}')\n",
        "\n",
        "\n"
      ],
      "execution_count": null,
      "outputs": []
    },
    {
      "cell_type": "markdown",
      "metadata": {
        "id": "H2z_eLkcCJPY",
        "colab_type": "text"
      },
      "source": [
        "### Plot Embedding Results"
      ]
    },
    {
      "cell_type": "code",
      "metadata": {
        "id": "3FJB13iPIiJu",
        "colab_type": "code",
        "colab": {}
      },
      "source": [
        "@torch.no_grad()\n",
        "def plot_points(colors):\n",
        "    model.eval()\n",
        "    z = model(torch.arange(data.num_nodes, device=device))\n",
        "    z = TSNE(n_components=2, perplexity=2.5).fit_transform(z.cpu().numpy())\n",
        "    y = data.y.cpu().numpy()\n",
        "\n",
        "    plt.figure(figsize=(8, 8))\n",
        "    for i in range(dataset.num_classes):\n",
        "        plt.scatter(z[y == i, 0], z[y == i, 1], s=20, color=colors[i])\n",
        "    plt.axis('off')\n",
        "    plt.show()\n",
        "\n",
        "\n",
        "plot_points(colors)"
      ],
      "execution_count": null,
      "outputs": []
    },
    {
      "cell_type": "code",
      "metadata": {
        "id": "efIRwX4O6VTh",
        "colab_type": "code",
        "colab": {}
      },
      "source": [
        "from torch_geometric.utils import to_networkx\n",
        "import networkx as nx\n",
        "g = to_networkx(data, to_undirected=True)\n",
        "colormap = ['#ff0000' if data.y[i] == 0 else '#0000ff' for i in range(34) ]\n",
        "plt.figure(figsize=(8,8))\n",
        "plt.axis('off')\n",
        "nx.draw_networkx(g,\n",
        "                 arrows=False,\n",
        "                 with_labels=False,\n",
        "                 node_size=100,\n",
        "                 node_shape='o',\n",
        "                 node_color=colormap)"
      ],
      "execution_count": null,
      "outputs": []
    },
    {
      "cell_type": "markdown",
      "metadata": {
        "id": "DH2Bp8fN_zev",
        "colab_type": "text"
      },
      "source": [
        "# Louvain"
      ]
    },
    {
      "cell_type": "code",
      "metadata": {
        "id": "qMaTg1XERJbs",
        "colab_type": "code",
        "colab": {}
      },
      "source": [
        "import matplotlib.pyplot as plt\n",
        "import random\n",
        "import matplotlib.cm as cm\n",
        "import networkx as nx\n",
        "import numpy as np\n",
        "import math\n",
        "import time\n",
        "from numpy import linalg as la\n",
        "from sklearn.metrics import accuracy_score\n",
        "import community as community_louvain\n",
        "def Louvain(graph):\n",
        "    partition = community_louvain.best_partition(graph)\n",
        "    n_coms = len(set(partition.values()))\n",
        "    coms = [set() for _ in range(n_coms)]\n",
        "    for k in partition.keys():\n",
        "        coms[partition[k]].add(k)\n",
        "    return coms"
      ],
      "execution_count": 134,
      "outputs": []
    },
    {
      "cell_type": "code",
      "metadata": {
        "id": "el7u9kehgEq-",
        "colab_type": "code",
        "colab": {}
      },
      "source": [
        "from torch_geometric.utils import to_networkx\n",
        "\n",
        "g = to_networkx(data, to_undirected=True)\n",
        "\n",
        "num_nodes = data.num_nodes\n",
        "comms = Louvain(g)\n",
        "pred = np.zeros(num_nodes)\n",
        "num_comms = len(comms)"
      ],
      "execution_count": 152,
      "outputs": []
    },
    {
      "cell_type": "code",
      "metadata": {
        "id": "wCx_cxyuRgQJ",
        "colab_type": "code",
        "colab": {
          "base_uri": "https://localhost:8080/",
          "height": 34
        },
        "outputId": "6a363e64-f6f8-4748-b382-625dee7abfd4"
      },
      "source": [
        "i = 0\n",
        "for c in comms:\n",
        "    for j in c:\n",
        "        pred[j] = i\n",
        "    i += 1\n",
        "new_pred = np.copy(pred)\n",
        "for ci in range(num_comms):\n",
        "    try:\n",
        "        label = np.bincount(data.y[np.logical_and(pred == ci, data.train_mask)]).argmax()\n",
        "    except:\n",
        "        label = -10\n",
        "    new_pred[pred == ci] = label\n",
        "\n",
        "acc = accuracy_score(data.y[data.test_mask].numpy(), new_pred[data.test_mask])\n",
        "print('Acc : {:.3f}'.format(acc))\n"
      ],
      "execution_count": 153,
      "outputs": [
        {
          "output_type": "stream",
          "text": [
            "Acc : 0.442\n"
          ],
          "name": "stdout"
        }
      ]
    }
  ]
}